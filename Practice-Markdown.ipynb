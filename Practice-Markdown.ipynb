{
 "cells": [
  {
   "cell_type": "markdown",
   "metadata": {},
   "source": [
    "## Practice Markdown"
   ]
  },
  {
   "cell_type": "markdown",
   "metadata": {},
   "source": [
    "This notebook lets you experiment with producing repeatable technical documentation.  Use this notebook to do the following actions:\n",
    "\n",
    "* Create a code cell and print a Python Hello World statement:  `print(\"hello world\")`\n",
    "* Create a Markdown Cell and add a Title using `#` and then a statement using plain text.  You can looks at the source code for this cell to get an idea of how to use Markdown.\n",
    "* Take some ideas from the [Master Markdown Github Guide](https://guides.github.com/features/mastering-markdown/) and implement them here.\n",
    "* Download this notebook as a `.ipynb` file and check into a Github Project.  You can [see an example here](https://github.com/noahgift/duke-coursera-ccf-lab1/blob/main/Practice-Markdown.ipynb).\n",
    "* Open your notebook in Google Colab and save it into the same Github Project.  You can [see an example here](https://github.com/noahgift/duke-coursera-ccf-lab1/blob/main/Practice_Markdown_with_colab.ipynb).\n"
   ]
  },
  {
   "cell_type": "code",
   "execution_count": null,
   "metadata": {},
   "outputs": [],
   "source": [
    "print(\"hello world\")"
   ]
  },
  {
   "cell_type": "markdown",
   "metadata": {},
   "source": [
    "# First task\n",
    "\n",
    "This is my first task in the Cloud Computing Foundations course.\n",
    "\n",
    "I'm currently enrolled in several courses, including:\n",
    "\n",
    "* Cloud Computing Foundations\n",
    "* ML Foundations for Project Managers\n",
    "* Fundamentals of Software Architecture for Big Data\n",
    "* Fundamentals of Reinforcement Learning\n",
    "\n",
    "My current goal is to be promoted in my current company, which is called [Engineering](https://www.engdb.com.br).\n",
    "\n",
    "There are several tasks which I need to conclude by the end of the month:\n",
    "\n",
    "- [ ] Finish a homework assignement about fuzzy and naive bayes.\n",
    "- [ ] Write a TCC for my lato sensu specialization at IFSC.\n",
    "- [ ] Finish a regression homework for Coursera\n",
    "\n",
    "With that, I conclude this little markdown exercise, knowing that I'm already capable of writing .md files efficiently."
   ]
  }
 ],
 "metadata": {
  "kernelspec": {
   "display_name": "Python 3",
   "language": "python",
   "name": "python3"
  },
  "language_info": {
   "codemirror_mode": {
    "name": "ipython",
    "version": 3
   },
   "file_extension": ".py",
   "mimetype": "text/x-python",
   "name": "python",
   "nbconvert_exporter": "python",
   "pygments_lexer": "ipython3",
   "version": "3.7.6"
  }
 },
 "nbformat": 4,
 "nbformat_minor": 4
}
